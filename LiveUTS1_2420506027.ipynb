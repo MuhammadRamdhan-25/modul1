{
  "nbformat": 4,
  "nbformat_minor": 0,
  "metadata": {
    "colab": {
      "provenance": [],
      "authorship_tag": "ABX9TyNbxeF9lkHJ7p/1iYa2jvAP",
      "include_colab_link": true
    },
    "kernelspec": {
      "name": "python3",
      "display_name": "Python 3"
    },
    "language_info": {
      "name": "python"
    }
  },
  "cells": [
    {
      "cell_type": "markdown",
      "metadata": {
        "id": "view-in-github",
        "colab_type": "text"
      },
      "source": [
        "<a href=\"https://colab.research.google.com/github/MuhammadRamdhan-25/modul1/blob/main/LiveUTS1_2420506027.ipynb\" target=\"_parent\"><img src=\"https://colab.research.google.com/assets/colab-badge.svg\" alt=\"Open In Colab\"/></a>"
      ]
    },
    {
      "cell_type": "code",
      "execution_count": 1,
      "metadata": {
        "colab": {
          "base_uri": "https://localhost:8080/"
        },
        "id": "5DtsF1lFZS61",
        "outputId": "50351c46-c5ef-4d21-f3df-4d822d231b31"
      },
      "outputs": [
        {
          "output_type": "stream",
          "name": "stdout",
          "text": [
            "Masukkan NPM: 2420506027\n",
            "Ganjil: 2\n",
            "Genap : 8\n"
          ]
        }
      ],
      "source": [
        "#Membuat program untuk mendeteksi ganjil genap pada NPM Mahasiswa\n",
        "n = input(\"Masukkan NPM: \") #Inputan Nilai yang ingin dimasukkan\n",
        "\n",
        "ganjil = 0#Mendefinisikan bahwa bilangan ganjil =0\n",
        "genap = 0#Mendefinisikan bahwa bilangan genap =0\n",
        "\n",
        "for i in n:#perulangan pertama pada i\n",
        "   if int (i) % 2 == 0 :#operator unyuk membagi i dengan 2 maka akan menghasilkan\n",
        "    genap +=1#Jika hasilnya = 0 maka genap + 1\n",
        "   else :\n",
        "    ganjil +=1#Jika hasilnya bukan 0 maka ganjil + 1\n",
        "\n",
        "print(\"Ganjil:\", ganjil)#Output dari Ganjil\n",
        "print(\"Genap :\", genap)#Output dari Genap"
      ]
    },
    {
      "cell_type": "markdown",
      "source": [],
      "metadata": {
        "id": "QmsricDQhg8Z"
      }
    }
  ]
}