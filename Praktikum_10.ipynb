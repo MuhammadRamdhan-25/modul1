{
  "cells": [
    {
      "cell_type": "markdown",
      "metadata": {
        "id": "view-in-github",
        "colab_type": "text"
      },
      "source": [
        "<a href=\"https://colab.research.google.com/github/MuhammadRamdhan-25/modul1/blob/main/Praktikum_10.ipynb\" target=\"_parent\"><img src=\"https://colab.research.google.com/assets/colab-badge.svg\" alt=\"Open In Colab\"/></a>"
      ]
    },
    {
      "cell_type": "code",
      "execution_count": 1,
      "metadata": {
        "id": "bz7iUdUj1J8_",
        "colab": {
          "base_uri": "https://localhost:8080/"
        },
        "outputId": "1751ad1f-0024-45ec-8f51-edb3a4ede3ab"
      },
      "outputs": [
        {
          "output_type": "stream",
          "name": "stdout",
          "text": [
            "Masukkan Angka :5\n",
            "Faktorial dari 5 adalah 120\n"
          ]
        }
      ],
      "source": [
        "#Weekly Exercise 1 menghitung nilai faktorial dari bilangan yang diinputkan oleh pengguna dengan memanfaatkan fungsi rekursif!\n",
        "def faktorial(n):\n",
        "    if n == 0 or n == 1:\n",
        "        return 1\n",
        "    else:\n",
        "        return n * faktorial(n-1)\n",
        "\n",
        "angka =int(input(\"Masukkan Angka :\"))\n",
        "if angka < 0:\n",
        "    print(\"Faktorial tidak dapat dihitung untuk bilangan negatif.\")\n",
        "else:\n",
        "    print(f\"Faktorial dari {angka} adalah {faktorial(angka)}\")\n"
      ]
    },
    {
      "cell_type": "code",
      "execution_count": 2,
      "metadata": {
        "colab": {
          "base_uri": "https://localhost:8080/"
        },
        "id": "icrubVmcIQP3",
        "outputId": "50c9b384-2e1f-485f-bb89-d7c795191e20"
      },
      "outputs": [
        {
          "output_type": "stream",
          "name": "stdout",
          "text": [
            "\n",
            " [Lingkaran, Persegi, Segitiga, Selesai]\n",
            "Pilih bangun datar atau keluar: lingkaran\n",
            "Masukkan jari-jari lingkaran: 7\n",
            "Luas Lingkaran adalah 153.86\n",
            "\n",
            " [Lingkaran, Persegi, Segitiga, Selesai]\n",
            "Pilih bangun datar atau keluar: persegi\n",
            "Masukkan sisi persegi: 5\n",
            "Luas Persegi adalah 25.00\n",
            "\n",
            " [Lingkaran, Persegi, Segitiga, Selesai]\n",
            "Pilih bangun datar atau keluar: segitiga\n",
            "Masukkan alas segitiga: 4\n",
            "Masukkan tinggi segitiga: 5\n",
            "Luas Segitiga adalah 10.00\n",
            "\n",
            " [Lingkaran, Persegi, Segitiga, Selesai]\n",
            "Pilih bangun datar atau keluar: keluar\n",
            "Pilihan tidak valid. Silakan coba lagi.\n",
            "\n",
            " [Lingkaran, Persegi, Segitiga, Selesai]\n",
            "Pilih bangun datar atau keluar: selesai\n",
            "Program selesai.\n"
          ]
        }
      ],
      "source": [
        "def luas_lingkaran(r):\n",
        "    return 3.14 * r * r\n",
        "\n",
        "def luas_persegi(sisi):\n",
        "    return sisi * sisi\n",
        "\n",
        "def luas_segitiga(alas, tinggi):\n",
        "    return 0.5 * alas * tinggi\n",
        "\n",
        "while True:\n",
        "    print(\"\\n [Lingkaran, Persegi, Segitiga, Selesai]\")\n",
        "    pilihan = input(\"Pilih bangun datar atau keluar: \")\n",
        "\n",
        "    if pilihan.lower() == \"lingkaran\":\n",
        "        r = float(input(\"Masukkan jari-jari lingkaran: \"))\n",
        "        print(f\"Luas Lingkaran adalah {luas_lingkaran(r):.2f}\")\n",
        "\n",
        "    elif pilihan.lower() == \"persegi\":\n",
        "        sisi = float(input(\"Masukkan sisi persegi: \"))\n",
        "        print(f\"Luas Persegi adalah {luas_persegi(sisi):.2f}\")\n",
        "\n",
        "    elif pilihan.lower() == \"segitiga\":\n",
        "        alas = float(input(\"Masukkan alas segitiga: \"))\n",
        "        tinggi = float(input(\"Masukkan tinggi segitiga: \"))\n",
        "        print(f\"Luas Segitiga adalah {luas_segitiga(alas, tinggi):.2f}\")\n",
        "\n",
        "    elif pilihan.lower() == \"selesai\":\n",
        "        print(\"Program selesai.\")\n",
        "        break\n",
        "\n",
        "    else:\n",
        "        print(\"Pilihan tidak valid. Silakan coba lagi.\")"
      ]
    }
  ],
  "metadata": {
    "colab": {
      "provenance": [],
      "authorship_tag": "ABX9TyMQt07aujwR/TK2Wbirrjhq",
      "include_colab_link": true
    },
    "kernelspec": {
      "display_name": "Python 3",
      "name": "python3"
    },
    "language_info": {
      "name": "python"
    }
  },
  "nbformat": 4,
  "nbformat_minor": 0
}