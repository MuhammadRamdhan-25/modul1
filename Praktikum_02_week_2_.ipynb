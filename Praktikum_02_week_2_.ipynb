{
  "nbformat": 4,
  "nbformat_minor": 0,
  "metadata": {
    "colab": {
      "provenance": [],
      "authorship_tag": "ABX9TyOov5fVRsvsKK/O+twiMNG9",
      "include_colab_link": true
    },
    "kernelspec": {
      "name": "python3",
      "display_name": "Python 3"
    },
    "language_info": {
      "name": "python"
    }
  },
  "cells": [
    {
      "cell_type": "markdown",
      "metadata": {
        "id": "view-in-github",
        "colab_type": "text"
      },
      "source": [
        "<a href=\"https://colab.research.google.com/github/MuhammadRamdhan-25/modul1/blob/main/Praktikum_02_week_2_.ipynb\" target=\"_parent\"><img src=\"https://colab.research.google.com/assets/colab-badge.svg\" alt=\"Open In Colab\"/></a>"
      ]
    },
    {
      "cell_type": "code",
      "source": [],
      "metadata": {
        "id": "uFNJDFTYo1h7"
      },
      "execution_count": null,
      "outputs": []
    },
    {
      "cell_type": "code",
      "source": [
        "# Exercise 1 (Memperbaiki Script)\n",
        "panjang=20.5\n",
        "lebar=25\n",
        "tinggi=10\n",
        "\n",
        "keliling=2*(panjang+lebar)\n",
        "luas=panjang/lebar\n",
        "volume=panjang*lebar*tinggi\n",
        "\n",
        "print(\"Panjang     =\", panjang)\n",
        "print(\"Lebar       =\", lebar)\n",
        "print('Tinggi      =', tinggi)\n",
        "print('Keliling    =', keliling)\n",
        "print('Luas        =', luas)\n",
        "print('Volume      =', volume)"
      ],
      "metadata": {
        "colab": {
          "base_uri": "https://localhost:8080/"
        },
        "id": "OcHYWgfNbobU",
        "outputId": "2273717b-0958-4340-b567-ed96630a6e4b"
      },
      "execution_count": null,
      "outputs": [
        {
          "output_type": "stream",
          "name": "stdout",
          "text": [
            "Panjang     = 20.5\n",
            "Lebar       = 25\n",
            "Tinggi      = 10\n",
            "Keliling    = 91.0\n",
            "Luas        = 0.82\n",
            "Volume      = 5125.0\n"
          ]
        }
      ]
    },
    {
      "cell_type": "code",
      "source": [
        "# Exercise 2 (Menampilkan Data Tabel)\n",
        "S = 85+75\n",
        "print('1.Rata-rata nilai Shafira    =', S/2)\n",
        "HA = 75+90+70+75\n",
        "print('2.Jumlah nilai Hanif Andi    =', HA)\n",
        "W = 85*2/2\n",
        "D = 85*2/2\n",
        "HI = (80+75)/2\n",
        "N = (95+80)/2\n",
        "print('3.Rata-rata nilai     =')\n",
        "print('    a.Widya :', W)\n",
        "print('    b.Dhanar :', D)\n",
        "print('    c.Hikma :', HI)\n",
        "print('    d.Nedia :', N)\n",
        "print('4.Rata-rata nilai mata kuliah Kalkulus 1 untuk semua mahasiswa =', (85+80+75+95+85+75+70+85+80)/9)\n",
        "print('5.Rata-rata nilai mata kuliah Metode Statistika untuk semua mahasiswa =', (75+90+80+80+85+90+75+85+75)/9)"
      ],
      "metadata": {
        "colab": {
          "base_uri": "https://localhost:8080/"
        },
        "id": "brgdi0jXgnPO",
        "outputId": "902c78d4-b697-48ea-850c-3ae846b05c04"
      },
      "execution_count": 54,
      "outputs": [
        {
          "output_type": "stream",
          "name": "stdout",
          "text": [
            "1.Rata-rata nilai Shafira    = 80.0\n",
            "2.Jumlah nilai Hanif Andi    = 310\n",
            "3.Rata-rata nilai     =\n",
            "    a.Widya : 85.0\n",
            "    b.Dhanar : 85.0\n",
            "    c.Hikma : 77.5\n",
            "    d.Nedia : 87.5\n",
            "4.Rata-rata nilai mata kuliah Kalkulus 1 untuk semua mahasiswa = 81.11111111111111\n",
            "5.Rata-rata nilai mata kuliah Metode Statistika untuk semua mahasiswa = 81.66666666666667\n"
          ]
        }
      ]
    },
    {
      "cell_type": "markdown",
      "source": [],
      "metadata": {
        "id": "F6a7fSErppDb"
      }
    },
    {
      "source": [
        "# Exercise 3 (Menampilkan Data Gaji)\n",
        "Gaji_perjam = 30000\n",
        "Jam_kerja_perhari = 8\n",
        "Hari_kerja_sebulan = 25\n",
        "\n",
        "Gaji_bulanan = Gaji_perjam*Jam_kerja_perhari*Hari_kerja_sebulan\n",
        "Gaji_bulanan_tidak_masuk=Gaji_perjam*Jam_kerja_perhari*(Hari_kerja_bulanan-3)\n",
        "\n",
        "tunjangan= Gaji_bulanan*0.1\n",
        "\n",
        "upah_lembur=10000\n",
        "jam_lembur= 5\n",
        "Gaji_bulanan_lembur=upah_lembur*jam_lembur\n",
        "\n",
        "print('Gaji bulanan Dwi =', Gaji_bulanan)\n",
        "print('Gaji bulanan tidak masuk Dwi selama 3 hari =', Gaji_bulanan_tidak_masuk)\n",
        "print('Tunjangan Dwi =', tunjangan)\n",
        "print('Gaji total Dwi jika lembur selama 5 jam =', Gaji_bulanan + Gaji_bulanan_lembur)"
      ],
      "cell_type": "code",
      "metadata": {
        "colab": {
          "base_uri": "https://localhost:8080/"
        },
        "id": "7jdIK_s_uwwG",
        "outputId": "316846a6-f81e-42fc-bb0f-7bb981321b90"
      },
      "execution_count": null,
      "outputs": [
        {
          "output_type": "stream",
          "name": "stdout",
          "text": [
            "Gaji bulanan Dwi = 6000000\n",
            "Gaji bulanan tidak masuk Dwi selama 3 hari = 6480000\n",
            "Tunjangan Dwi = 600000.0\n",
            "Gaji total Dwi jika lembur selama 5 jam = 6050000\n"
          ]
        }
      ]
    }
  ]
}