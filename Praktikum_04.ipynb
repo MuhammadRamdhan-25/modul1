{
  "nbformat": 4,
  "nbformat_minor": 0,
  "metadata": {
    "colab": {
      "provenance": [],
      "authorship_tag": "ABX9TyMnjrwY9YLaGQ5W5UzwMgpi",
      "include_colab_link": true
    },
    "kernelspec": {
      "name": "python3",
      "display_name": "Python 3"
    },
    "language_info": {
      "name": "python"
    }
  },
  "cells": [
    {
      "cell_type": "markdown",
      "metadata": {
        "id": "view-in-github",
        "colab_type": "text"
      },
      "source": [
        "<a href=\"https://colab.research.google.com/github/MuhammadRamdhan-25/modul1/blob/main/Praktikum_04.ipynb\" target=\"_parent\"><img src=\"https://colab.research.google.com/assets/colab-badge.svg\" alt=\"Open In Colab\"/></a>"
      ]
    },
    {
      "cell_type": "code",
      "execution_count": 30,
      "metadata": {
        "colab": {
          "base_uri": "https://localhost:8080/"
        },
        "id": "rUgUN6K1R6K7",
        "outputId": "6c037a6a-c95e-4ebb-9df4-1d2536312cfa"
      },
      "outputs": [
        {
          "output_type": "stream",
          "name": "stdout",
          "text": [
            "Masukkan Umur Anda: 16\n",
            "Tidak Boleh Membuat Sim\n"
          ]
        }
      ],
      "source": [
        "# Weekly Exercise 1 (Membuat program berdasarkan Flowchart)\n",
        "\n",
        "umur = input(\"Masukkan Umur Anda: \")\n",
        "age = int(umur)\n",
        "\n",
        "if age > 17:\n",
        "    print(\"Boleh Membuat Sim\")\n",
        "elif age == 17:\n",
        "    print(\"Boleh Membuat Sim\")\n",
        "else:\n",
        "    print(\"Tidak Boleh Membuat Sim\")"
      ]
    },
    {
      "cell_type": "code",
      "source": [
        "# Weekly Exercise 2 (Membuat program berdasarkan Flowchart)\n",
        "\n",
        "N = input(\"Masukkan Nilai Anda: \")\n",
        "nilai = int(N)\n",
        "\n",
        "if nilai >= 90:\n",
        "    print(\"Nilai Anda A\")\n",
        "elif nilai >= 80:\n",
        "    print(\"Nilai Anda B+\")\n",
        "elif nilai >= 70:\n",
        "    print(\"Nilai Anda B\")\n",
        "elif nilai >= 60:\n",
        "    print(\"Nilai Anda C+\")\n",
        "elif nilai >= 50:\n",
        "    print(\"Nilai Anda C\")\n",
        "elif nilai >= 40:\n",
        "    print(\"Nilai Anda D\")\n",
        "else:\n",
        "    print(\"Nilai Anda E\")"
      ],
      "metadata": {
        "colab": {
          "base_uri": "https://localhost:8080/"
        },
        "id": "MPM8fzHVbBvw",
        "outputId": "dc06513e-081b-4f90-8aff-7e556e83cd26"
      },
      "execution_count": 57,
      "outputs": [
        {
          "output_type": "stream",
          "name": "stdout",
          "text": [
            "Masukkan Nilai Anda: 30\n",
            "Nilai Anda E\n"
          ]
        }
      ]
    },
    {
      "cell_type": "code",
      "source": [
        "# Weekly Exercise 3 (Modifikasi kode program sehingga memenuhi ketentuan)\n",
        "\n",
        "N = input(\"Masukkan Nilai Anda: \")\n",
        "nilai = float(N)\n",
        "\n",
        "if  nilai >= 80:\n",
        "    print(\"Nilai Anda A\")\n",
        "elif nilai >= 77.50:\n",
        "    print(\"Nilai Anda A-\")\n",
        "elif nilai >= 75.00:\n",
        "    print(\"Nilai Anda A/B\")\n",
        "elif nilai >= 72.50:\n",
        "    print(\"Nilai Anda B+\")\n",
        "elif nilai >= 70.00:\n",
        "    print(\"Nilai Anda B\")\n",
        "elif nilai >= 67.50:\n",
        "    print(\"Nilai Anda B-\")\n",
        "elif nilai >= 65.00:\n",
        "    print(\"Nilai Anda B/C\")\n",
        "elif nilai >= 62.50:\n",
        "    print(\"Nilai Anda C+\")\n",
        "elif nilai >= 60.00:\n",
        "    print(\"Nilai Anda C\")\n",
        "elif nilai >= 55.00:\n",
        "    print(\"Nilai Anda C-\")\n",
        "elif nilai >= 50.00:\n",
        "    print(\"Nilai Anda C/D\")\n",
        "elif nilai >= 45.00:\n",
        "    print(\"Nilai Anda D+\")\n",
        "elif nilai >= 40.00:\n",
        "    print(\"Nilai Anda D\")\n",
        "else:\n",
        "    print(\"Nilai Anda E\")"
      ],
      "metadata": {
        "colab": {
          "base_uri": "https://localhost:8080/"
        },
        "id": "vG81Vbkog6uO",
        "outputId": "58720f15-1c44-4c5b-9e8c-289a6592bc22"
      },
      "execution_count": 56,
      "outputs": [
        {
          "output_type": "stream",
          "name": "stdout",
          "text": [
            "Masukkan Nilai Anda: 80\n",
            "Nilai Anda A\n"
          ]
        }
      ]
    }
  ]
}