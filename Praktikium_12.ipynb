{
  "nbformat": 4,
  "nbformat_minor": 0,
  "metadata": {
    "colab": {
      "provenance": [],
      "authorship_tag": "ABX9TyO4774Sc1ueg86I+ZGdB1i2",
      "include_colab_link": true
    },
    "kernelspec": {
      "name": "python3",
      "display_name": "Python 3"
    },
    "language_info": {
      "name": "python"
    }
  },
  "cells": [
    {
      "cell_type": "markdown",
      "metadata": {
        "id": "view-in-github",
        "colab_type": "text"
      },
      "source": [
        "<a href=\"https://colab.research.google.com/github/MuhammadRamdhan-25/modul1/blob/main/Praktikium_12.ipynb\" target=\"_parent\"><img src=\"https://colab.research.google.com/assets/colab-badge.svg\" alt=\"Open In Colab\"/></a>"
      ]
    },
    {
      "cell_type": "code",
      "source": [
        "#Weekly Exercise 1 Membuat Perhitungan pada tugas sebelumnya,dengan memberikan Exepton Handling\n",
        "import matematika\n",
        "\n",
        "while True:\n",
        "    try:\n",
        "        r = input(\"Masukkan Jari-jari Lingkaran: \")\n",
        "        if r.strip() == \"\":\n",
        "            print(\"Angka tidak boleh kosong.\")\n",
        "            continue\n",
        "        r = int(r)\n",
        "        luas_lingkaran = matematika.luas_lingkaran(r)\n",
        "        print(f\"Luas Lingkaran adalah {luas_lingkaran}\")\n",
        "    except ValueError:\n",
        "        print(\"Harus memasukkan angka \")\n",
        "\n",
        "    try:\n",
        "        s = input(\"Masukkan Sisi Persegi: \")\n",
        "        if s.strip() == \"\":\n",
        "            print(\"Angka tidak boleh kosong.\")\n",
        "            continue\n",
        "        s = int(s)\n",
        "        luas_persegi = matematika.luas_persegi(s)\n",
        "        print(f\"Luas Persegi adalah {luas_persegi}\")\n",
        "        break\n",
        "    except ValueError:\n",
        "        print(\"Harus memasukkan angka\")"
      ],
      "metadata": {
        "colab": {
          "base_uri": "https://localhost:8080/"
        },
        "id": "gaK5RuCHx2iR",
        "outputId": "310cf8ac-5275-4a68-ff4c-35d1847b5f2c"
      },
      "execution_count": 18,
      "outputs": [
        {
          "output_type": "stream",
          "name": "stdout",
          "text": [
            "Masukkan Jari-jari Lingkaran: haha\n",
            "Harus memasukkan angka \n",
            "Masukkan Sisi Persegi: hehe\n",
            "Harus memasukkan angka.\n",
            "Masukkan Jari-jari Lingkaran: \n",
            "Angka tidak boleh kosong.\n",
            "Masukkan Jari-jari Lingkaran: 10\n",
            "Luas Lingkaran adalah 314.0\n",
            "Masukkan Sisi Persegi: 10\n",
            "Luas Persegi adalah 100\n"
          ]
        }
      ]
    },
    {
      "cell_type": "code",
      "source": [
        "# Weekly Exercise 2 Membuat Perhitungan pada tugas sebelumnya,dengan memberikan Exepton Handling\n",
        "\n",
        "while True:\n",
        "    try:\n",
        "        n = input(\"Masukkan NPM: \")\n",
        "        if n.strip() == \"\":\n",
        "            raise ValueError(\"Tidak boleh kosong\")\n",
        "        if not n.isdigit():\n",
        "            raise ValueError(\"Hanya boleh memasukkan angka\")\n",
        "        if len(n) != 10:\n",
        "            raise ValueError(\"Harus 10 angka\")\n",
        "\n",
        "        ganjil = 0\n",
        "        genap = 0\n",
        "\n",
        "        for i in n:\n",
        "            if int(i) % 2 == 0:\n",
        "                genap += 1\n",
        "            else:\n",
        "                ganjil += 1\n",
        "\n",
        "        print(\"Ganjil:\", ganjil)\n",
        "        print(\"Genap :\", genap)\n",
        "        break\n",
        "\n",
        "    except ValueError as e:\n",
        "        print(e)"
      ],
      "metadata": {
        "colab": {
          "base_uri": "https://localhost:8080/"
        },
        "id": "asJ5o8YSRy3A",
        "outputId": "326a022d-1cf6-4947-adf6-5e5502952f7d"
      },
      "execution_count": 31,
      "outputs": [
        {
          "output_type": "stream",
          "name": "stdout",
          "text": [
            "Masukkan NPM: \n",
            "Tidak boleh kosong\n",
            "Masukkan NPM: hehe\n",
            "Hanya boleh memasukkan angka\n",
            "Masukkan NPM: 4231\n",
            "Harus 10 angka\n",
            "Masukkan NPM: 2420506027\n",
            "Ganjil: 2\n",
            "Genap : 8\n"
          ]
        }
      ]
    }
  ]
}