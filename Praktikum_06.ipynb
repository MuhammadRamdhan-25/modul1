{
  "nbformat": 4,
  "nbformat_minor": 0,
  "metadata": {
    "colab": {
      "provenance": [],
      "authorship_tag": "ABX9TyMMd/SnRG2fC1i3C8QsdtZd",
      "include_colab_link": true
    },
    "kernelspec": {
      "name": "python3",
      "display_name": "Python 3"
    },
    "language_info": {
      "name": "python"
    }
  },
  "cells": [
    {
      "cell_type": "markdown",
      "metadata": {
        "id": "view-in-github",
        "colab_type": "text"
      },
      "source": [
        "<a href=\"https://colab.research.google.com/github/MuhammadRamdhan-25/modul1/blob/main/Praktikum_06.ipynb\" target=\"_parent\"><img src=\"https://colab.research.google.com/assets/colab-badge.svg\" alt=\"Open In Colab\"/></a>"
      ]
    },
    {
      "cell_type": "code",
      "execution_count": null,
      "metadata": {
        "colab": {
          "base_uri": "https://localhost:8080/"
        },
        "id": "KufcRNmCbqVA",
        "outputId": "fb13a5d9-a3de-48f4-b2ab-0f61f6e79000"
      },
      "outputs": [
        {
          "output_type": "stream",
          "name": "stdout",
          "text": [
            "Masukkan Angka 9\n",
            "        * \n",
            "       * * \n",
            "      * * * \n",
            "     * * * * \n",
            "    * * * * * \n",
            "   * * * * * * \n",
            "  * * * * * * * \n",
            " * * * * * * * * \n",
            "* * * * * * * * * \n"
          ]
        }
      ],
      "source": [
        "#Weekly Exercise 1 Membuat kode program untuk menampilkan segitiga bintang\n",
        "num = int(input(\"Masukkan Angka \"))\n",
        "for i in range(1, num + 1):\n",
        "    print(\" \" * (num - i), end=\"\")\n",
        "    for j in range(1, i + 1):\n",
        "        print(\"*\", end=\" \")\n",
        "    print()\n"
      ]
    },
    {
      "cell_type": "code",
      "source": [
        "#Weekly Exercise 2 Membuat kode untuk menampilkan segitiga pascal\n",
        "num = int(input(\"Masukkan Angka: \"))\n",
        "List1 = []\n",
        "for i in range(num):\n",
        "  temp_list = []\n",
        "  for j in range (i+1):\n",
        "    if j == 0 or j ==i:\n",
        "      temp_list.append(1)\n",
        "    else:\n",
        "      temp_list.append(List1[i-1][j-1] + List1[i-1][j])\n",
        "  List1.append(temp_list)\n",
        "\n",
        "for i in range(num):\n",
        "  for j in range(num-i-1):\n",
        "    print(format(\" \", \"<2\"), end=\"\")\n",
        "  for j in range(len(List1[i])):\n",
        "    print(format(List1[i][j], \"<3\"), end=\" \")\n",
        "  print()"
      ],
      "metadata": {
        "colab": {
          "base_uri": "https://localhost:8080/"
        },
        "id": "CgYa94rgeg5d",
        "outputId": "4c76688d-52f2-4b59-eb87-6f6959cd295c"
      },
      "execution_count": 4,
      "outputs": [
        {
          "output_type": "stream",
          "name": "stdout",
          "text": [
            "Masukkan Angka: 6\n",
            "          1   \n",
            "        1   1   \n",
            "      1   2   1   \n",
            "    1   3   3   1   \n",
            "  1   4   6   4   1   \n",
            "1   5   10  10  5   1   \n"
          ]
        }
      ]
    },
    {
      "cell_type": "code",
      "source": [
        "#Weekly Exercise 3 Membuat kode program menampilkan jumlah angka dalam satu baris segitiga pascal.\n",
        "def generate_pascals_row(n):\n",
        "    row = [1]\n",
        "    for _ in range(n - 1):\n",
        "        row = [x + y for x, y in zip([0] + row, row + [0])]\n",
        "    return row\n",
        "\n",
        "def sum_pascals_row(row_index):\n",
        "    row = generate_pascals_row(row_index)\n",
        "    print(f\"Baris segitiga Pascal ke-{row_index}: {row}\")\n",
        "    return sum(row)\n",
        "\n",
        "num = int(input(\"Masukkan Angka: \"))\n",
        "result = sum_pascals_row(num)\n",
        "print(f\"Jumlah angka pada baris segitiga Pascal ke-{num}: {result}\")"
      ],
      "metadata": {
        "id": "LOdyMX1UUpQ2",
        "colab": {
          "base_uri": "https://localhost:8080/"
        },
        "outputId": "5238160a-8889-4e70-ec21-0ef9b45803bc"
      },
      "execution_count": 12,
      "outputs": [
        {
          "output_type": "stream",
          "name": "stdout",
          "text": [
            "Masukkan Angka: 3\n",
            "Baris segitiga Pascal ke-3: [1, 2, 1]\n",
            "Jumlah angka pada baris segitiga Pascal ke-3: 4\n"
          ]
        }
      ]
    }
  ]
}