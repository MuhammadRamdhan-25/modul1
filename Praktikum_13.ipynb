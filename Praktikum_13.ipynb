{
  "nbformat": 4,
  "nbformat_minor": 0,
  "metadata": {
    "colab": {
      "provenance": [],
      "authorship_tag": "ABX9TyNTrzD+wFNWj3zyWlkZ1lLY",
      "include_colab_link": true
    },
    "kernelspec": {
      "name": "python3",
      "display_name": "Python 3"
    },
    "language_info": {
      "name": "python"
    }
  },
  "cells": [
    {
      "cell_type": "markdown",
      "metadata": {
        "id": "view-in-github",
        "colab_type": "text"
      },
      "source": [
        "<a href=\"https://colab.research.google.com/github/MuhammadRamdhan-25/modul1/blob/main/Praktikum_13.ipynb\" target=\"_parent\"><img src=\"https://colab.research.google.com/assets/colab-badge.svg\" alt=\"Open In Colab\"/></a>"
      ]
    },
    {
      "cell_type": "code",
      "source": [
        "#Membuat sebuah program untuk memasukkan, menampilkan, dan menentukan harga dari alat tulis\n",
        "class alat_tulis():\n",
        "    def __init__(self, nama, stok, harga_satuan):\n",
        "        self.nama = nama\n",
        "        self.stok = stok\n",
        "        self.harga_satuan = harga_satuan\n",
        "\n",
        "    def harga_total(self):\n",
        "        return self.stok * self.harga_satuan\n",
        "\n",
        "    def set_nama(self, nama):\n",
        "        self.nama = nama\n",
        "\n",
        "    def set_stok(self, stok):\n",
        "        self.stok = stok\n",
        "\n",
        "    def set_harga_satuan(self, harga_satuan):\n",
        "        self.harga_satuan = harga_satuan\n",
        "\n",
        "    def get_nama(self):\n",
        "        return self.nama\n",
        "\n",
        "    def get_stok(self):\n",
        "        return self.stok\n",
        "\n",
        "    def get_harga_satuan(self):\n",
        "        return self.harga_satuan\n",
        "\n",
        "    def __str__(self):\n",
        "        return f\"Nama: {self.nama}, Stok: {self.stok}, Harga satuan: {self.harga_satuan}, Harga: {self.harga_total()}\"\n",
        "\n",
        "class bolpoint(alat_tulis):\n",
        "    def __init__(self, nama, harga_satuan, stok):\n",
        "        super().__init__(nama, stok, harga_satuan)\n",
        "\n",
        "class pensil(alat_tulis):\n",
        "    def __init__(self, nama, harga_satuan, stok):\n",
        "        super().__init__(nama, stok, harga_satuan)\n",
        "\n",
        "class penghapus(alat_tulis):\n",
        "    def __init__(self, nama, harga_satuan, stok):\n",
        "        super().__init__(nama, stok, harga_satuan)\n",
        "\n",
        "barang1 = bolpoint(\"Bolpoint\", 2000, 10)\n",
        "barang2 = pensil(\"Pensil\", 1000, 10)\n",
        "barang3 = penghapus(\"Penghapus\", 500, 10)\n",
        "\n",
        "total_barang = barang1.harga_total() + barang2.harga_total() + barang3.harga_total()\n",
        "\n",
        "print(barang1)\n",
        "print(barang2)\n",
        "print(barang3)\n",
        "print(f\"Harga Total: {total_barang}\")"
      ],
      "metadata": {
        "colab": {
          "base_uri": "https://localhost:8080/"
        },
        "id": "uXHxfrwE-ddL",
        "outputId": "c570b004-e371-4269-a291-9fbeb97d83e3"
      },
      "execution_count": 13,
      "outputs": [
        {
          "output_type": "stream",
          "name": "stdout",
          "text": [
            "Nama: Bolpoint, Stok: 10, Harga satuan: 2000, Harga: 20000\n",
            "Nama: Pensil, Stok: 10, Harga satuan: 1000, Harga: 10000\n",
            "Nama: Penghapus, Stok: 10, Harga satuan: 500, Harga: 5000\n",
            "Harga Total: 35000\n"
          ]
        }
      ]
    }
  ]
}