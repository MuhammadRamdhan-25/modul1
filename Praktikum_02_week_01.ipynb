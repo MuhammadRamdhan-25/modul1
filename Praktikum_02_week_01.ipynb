{
  "nbformat": 4,
  "nbformat_minor": 0,
  "metadata": {
    "colab": {
      "provenance": [],
      "authorship_tag": "ABX9TyO4cEmJCeN2UAnIrB9unXde",
      "include_colab_link": true
    },
    "kernelspec": {
      "name": "python3",
      "display_name": "Python 3"
    },
    "language_info": {
      "name": "python"
    }
  },
  "cells": [
    {
      "cell_type": "markdown",
      "metadata": {
        "id": "view-in-github",
        "colab_type": "text"
      },
      "source": [
        "<a href=\"https://colab.research.google.com/github/MuhammadRamdhan-25/modul1/blob/main/Praktikum_02_week_01.ipynb\" target=\"_parent\"><img src=\"https://colab.research.google.com/assets/colab-badge.svg\" alt=\"Open In Colab\"/></a>"
      ]
    },
    {
      "cell_type": "code",
      "execution_count": null,
      "metadata": {
        "colab": {
          "base_uri": "https://localhost:8080/"
        },
        "id": "8aKO7yGdRBDy",
        "outputId": "d53b212a-5030-44b8-e9b3-fdd4bb727c37"
      },
      "outputs": [
        {
          "output_type": "stream",
          "name": "stdout",
          "text": [
            "Nama         : Muhammad Ramdhan\n",
            "\n",
            "NPM          : 2420506027\n",
            "\n",
            "Alamat       : Bangasari, Soropadan, Pringsurat, Temanggung.\n",
            "\n",
            "Tinggi Badan : 170cm\n",
            "\n",
            "Berat Badan  :74kg\n"
          ]
        }
      ],
      "source": [
        "# Menampilkan Kalimat\n",
        "print('Nama         : Muhammad Ramdhan')\n",
        "print('')\n",
        "print('NPM          : 2420506027')\n",
        "print('')\n",
        "print('Alamat       : Bangasari, Soropadan, Pringsurat, Temanggung.')\n",
        "print('')\n",
        "print('Tinggi Badan : 170cm')\n",
        "print('')\n",
        "print('Berat Badan  :74kg')"
      ]
    },
    {
      "cell_type": "code",
      "source": [
        "# Membuat Sebuah Kalimat\n",
        "print('UNIVERSITAS TIDAR')\n",
        "print('Universitas Tidar Merupakan Perguruan Tinggi Pemerintah atau Perguruan Tinggi Negeri yang telah ditetapkan berdasarkan Peraturan Presiden Republik Indonesia Nomor 23Tahun 2014 pada tanggal 1 April 2014')\n",
        "print('')\n",
        "print('\\033[1mJURUSAN TEKNIK ELEKTRO, MEKATRONIKA, DAN INFORMASI\\033[0m')\n",
        "print('Jurusan Teknik Elektro terdiri atas tiga program studi, antara lain:')\n",
        "print('    1. S1 Teknik Elektro \\x1B[3m(Bachelor Of Electrical Engineering)\\x1B[0m')\n",
        "print('    2. S1 Teknologi Informasi \\x1B[3m(Bachelor Of Information Technology)\\x1B[0m')\n",
        "print('    3. S1 Teknik Mekatronika \\x1B[3m(Bachelor Of Mechatronics Engineering)\\x1B[0m ')"
      ],
      "metadata": {
        "colab": {
          "base_uri": "https://localhost:8080/"
        },
        "id": "iVgodQKkVdCo",
        "outputId": "ec22c898-47f7-4d0d-8673-568b9c7d95aa"
      },
      "execution_count": null,
      "outputs": [
        {
          "output_type": "stream",
          "name": "stdout",
          "text": [
            "UNIVERSITAS TIDAR\n",
            "Universitas Tidar Merupakan Perguruan Tinggi Pemerintah atau Perguruan Tinggi Negeri yang telah ditetapkan berdasarkan Peraturan Presiden Republik Indonesia Nomor 23Tahun 2014 pada tanggal 1 April 2014\n",
            "\n",
            "\u001b[1mJURUSAN TEKNIK ELEKTRO, MEKATRONIKA, DAN INFORMASI\u001b[0m\n",
            "Jurusan Teknik Elektro terdiri atas tiga program studi, antara lain:\n",
            "    1. S1 Teknik Elektro \u001b[3m(Bachelor Of Electrical Engineering)\u001b[0m\n",
            "    2. S1 Teknologi Informasi \u001b[3m(Bachelor Of Information Technology)\u001b[0m\n",
            "    3. S1 Teknik Mekatronika \u001b[3m(Bachelor Of Mechatronics Engineering)\u001b[0m \n"
          ]
        }
      ]
    }
  ]
}