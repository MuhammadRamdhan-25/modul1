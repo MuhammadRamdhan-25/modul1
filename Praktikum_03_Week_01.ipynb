{
  "nbformat": 4,
  "nbformat_minor": 0,
  "metadata": {
    "colab": {
      "provenance": [],
      "authorship_tag": "ABX9TyOrTYh7hM0xZWF/CzF36ycX",
      "include_colab_link": true
    },
    "kernelspec": {
      "name": "python3",
      "display_name": "Python 3"
    },
    "language_info": {
      "name": "python"
    }
  },
  "cells": [
    {
      "cell_type": "markdown",
      "metadata": {
        "id": "view-in-github",
        "colab_type": "text"
      },
      "source": [
        "<a href=\"https://colab.research.google.com/github/MuhammadRamdhan-25/modul1/blob/main/Praktikum_03_Week_01.ipynb\" target=\"_parent\"><img src=\"https://colab.research.google.com/assets/colab-badge.svg\" alt=\"Open In Colab\"/></a>"
      ]
    },
    {
      "cell_type": "code",
      "source": [
        "# Weekly Exercise 1\n",
        "# Membuat biodata diri dengan file.txt\n",
        "with open('BiodataDiri.txt', 'r')  as BiodataDiri:\n",
        "    print(BiodataDiri.read())\n",
        "\n",
        "# Mengambil Biodata dan menyimpan dalam bentuk file txt yang baru.\n",
        "with open('/content/BiodataDiri2.txt', 'w') as writefile:\n",
        "    writefile.write(\"Nama          : Muhammad Ramdhan \\n\")\n",
        "    writefile.write('Program Studi : Teknologi Informasi \\n')\n",
        "    writefile.write('Npm           : 2420506027 \\n')\n",
        "    writefile.write('Alamat        : Bangsari, Soropadan, Pringsurat, Temanggung \\n')\n",
        "    writefile.write('Hobi          : Olahraga \\n')\n",
        "    writefile.write('Email         : mandzonswag@gmail.com \\n')"
      ],
      "metadata": {
        "id": "bl3UFpodY-4W",
        "colab": {
          "base_uri": "https://localhost:8080/"
        },
        "outputId": "2a99f36b-e585-4ce7-d0f1-342863adecdd"
      },
      "execution_count": 1,
      "outputs": [
        {
          "output_type": "stream",
          "name": "stdout",
          "text": [
            "Nama : Muhammad Ramdhan\n",
            "Program studi : Teknologi Informasi\n",
            "NPM : 2420506027\n",
            "Alamat : Bangsari, Soropadan, Pringsurat, Temanggung\n",
            "Hobi : Olahraga\n",
            "Email : mandzonswag@gmail.com\n"
          ]
        }
      ]
    },
    {
      "cell_type": "code",
      "source": [
        "# Weekly Exercise 2\n",
        "# Memperbaiki script sehingga tidak muncul error\n",
        "\n",
        "print(\"Selamat datang di Toko Maju Jaya\")\n",
        "print(\"Senin, 4 September 2023 13.05\")\n",
        "print(\"DAFTAR BELANJA\")\n",
        "\n",
        "item1 = \"Sabun\"\n",
        "item2 = \"Shampo\"\n",
        "item3 = \"Mie instant\"\n",
        "item4 = \"Detergen\"\n",
        "\n",
        "harga1 = 10000\n",
        "harga2 = 15000\n",
        "harga3 = 5000\n",
        "harga4 = 17500\n",
        "\n",
        "total = harga1 + harga2 + harga3 + harga4\n",
        "\n",
        "print(item1,         \"= Rp\",  harga1)\n",
        "print(item2,         \"= Rp\",  harga2)\n",
        "print(item3,         \"= Rp\",  harga3)\n",
        "print(item4,         \"= Rp\",  harga4)\n",
        "\n",
        "print(\"\\nTotal = Rp\", total)\n",
        "\n",
        "\n",
        "with open('Kuitansi.txt', 'w') as writefile:\n",
        "        writefile.write(\"Selamat Datang di Toko Maju Jaya\\n\")\n",
        "        writefile.write(\"Kuitansi 4 Septermber 2023\\n\")\n",
        "        writefile.write(item1 + \" = Rp \" + str(harga1) + \"\\n\")\n",
        "        writefile.write(item2 + \" = Rp \" + str(harga2) + \"\\n\")\n",
        "        writefile.write(item3 + \" = Rp \" + str(harga3) + \"\\n\")\n",
        "        writefile.write(item4 + \" = Rp \" +str(harga4) + \"\\n\")\n",
        "        writefile.write(\"Total Belanja = Rp \" + str(total))"
      ],
      "metadata": {
        "id": "0qLfx-u_nESW",
        "colab": {
          "base_uri": "https://localhost:8080/"
        },
        "outputId": "6f120d0a-4bcb-4adf-cf44-001b25022bae"
      },
      "execution_count": 2,
      "outputs": [
        {
          "output_type": "stream",
          "name": "stdout",
          "text": [
            "Selamat datang di Toko Maju Jaya\n",
            "Senin, 4 September 2023 13.05\n",
            "DAFTAR BELANJA\n",
            "Sabun = Rp 10000\n",
            "Shampo = Rp 15000\n",
            "Mie instant = Rp 5000\n",
            "Detergen = Rp 17500\n",
            "\n",
            "Total = Rp 47500\n"
          ]
        }
      ]
    }
  ]
}