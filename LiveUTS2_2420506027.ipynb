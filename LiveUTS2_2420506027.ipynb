{
  "nbformat": 4,
  "nbformat_minor": 0,
  "metadata": {
    "colab": {
      "provenance": [],
      "authorship_tag": "ABX9TyMT3qopeMgmqKpcQdBhucE1",
      "include_colab_link": true
    },
    "kernelspec": {
      "name": "python3",
      "display_name": "Python 3"
    },
    "language_info": {
      "name": "python"
    }
  },
  "cells": [
    {
      "cell_type": "markdown",
      "metadata": {
        "id": "view-in-github",
        "colab_type": "text"
      },
      "source": [
        "<a href=\"https://colab.research.google.com/github/MuhammadRamdhan-25/modul1/blob/main/LiveUTS2_2420506027.ipynb\" target=\"_parent\"><img src=\"https://colab.research.google.com/assets/colab-badge.svg\" alt=\"Open In Colab\"/></a>"
      ]
    },
    {
      "cell_type": "code",
      "execution_count": 7,
      "metadata": {
        "colab": {
          "base_uri": "https://localhost:8080/"
        },
        "id": "dnxVfxxkWIv1",
        "outputId": "f3d5c5b5-278f-49d0-b71d-74d1d4a91ec5"
      },
      "outputs": [
        {
          "output_type": "stream",
          "name": "stdout",
          "text": [
            "Masukkan Angka: 10\n",
            "1 \n",
            "2 4 \n",
            "3 6 9 \n",
            "4 8 12 16 \n",
            "5 10 15 20 25 \n",
            "6 12 18 24 30 36 \n",
            "7 14 21 28 35 42 49 \n",
            "8 16 24 32 40 48 56 64 \n",
            "9 18 27 36 45 54 63 72 81 \n",
            "10 20 30 40 50 60 70 80 90 100 \n"
          ]
        }
      ],
      "source": [
        "#Membuat Segitiga Angka\n",
        "n = int(input(\"Masukkan Angka: \")) #Menginput Aangka yang dinginkan dengan tipe integer\n",
        "\n",
        "for i in range(1,n+1):#Memulai perulangan yang pertama dari 1 sampai n+1\n",
        "  for j in range(1,i+1):#Mmeulai perulangan yang kedua untuk membentuk segitiga angka\n",
        "   print( j * i , end=' ')#Output dari perkalian j dan i dengan diakhiri end untk mengakhiri perulangan\n",
        "  print()#UNtuk membuat baris baru"
      ]
    }
  ]
}