{
  "nbformat": 4,
  "nbformat_minor": 0,
  "metadata": {
    "colab": {
      "provenance": [],
      "authorship_tag": "ABX9TyMXLH8EKAHgpwZB1Vc447m5",
      "include_colab_link": true
    },
    "kernelspec": {
      "name": "python3",
      "display_name": "Python 3"
    },
    "language_info": {
      "name": "python"
    }
  },
  "cells": [
    {
      "cell_type": "markdown",
      "metadata": {
        "id": "view-in-github",
        "colab_type": "text"
      },
      "source": [
        "<a href=\"https://colab.research.google.com/github/MuhammadRamdhan-25/modul1/blob/main/Praktikum_05.ipynb\" target=\"_parent\"><img src=\"https://colab.research.google.com/assets/colab-badge.svg\" alt=\"Open In Colab\"/></a>"
      ]
    },
    {
      "cell_type": "code",
      "execution_count": null,
      "metadata": {
        "id": "c8bYhvroahsN",
        "colab": {
          "base_uri": "https://localhost:8080/"
        },
        "outputId": "d3f56803-c484-429b-e0eb-4fec731489ab"
      },
      "outputs": [
        {
          "output_type": "stream",
          "name": "stdout",
          "text": [
            "Masukkan Tahun :2024\n",
            "Tahun tersebut adalah tahun kabisat\n"
          ]
        }
      ],
      "source": [
        "# Weekly Exercise 1 Membuat sebuah kode program untuk menunjukkan tahun kabisat\n",
        "tahun = int(input(\"Masukkan Tahun :\"))\n",
        "if tahun % 4 == 0:\n",
        "    print(\"Tahun tersebut adalah tahun kabisat\")\n",
        "else:\n",
        "    print(\"Tahun tersebut bukan tahun kabisat\")"
      ]
    },
    {
      "cell_type": "code",
      "source": [
        "# Weekly Exercise 2 Membuat sebuah kode program untuk menunjukkan angka terbesar berdasarkan 3 angka yang di inputkan\n",
        "angka1 = float(input(\"Masukkan Angka Pertama \"))\n",
        "angka2 = float(input(\"Masukkan Angka Kedua \"))\n",
        "angka3 = float(input(\"Masukkan Angka Ketiga \"))\n",
        "\n",
        "if angka1 > angka2 and angka1 > angka3:\n",
        "    print(\"Angka Terbesar adalah \", angka1)\n",
        "elif angka2 > angka1 and angka2 > angka3:\n",
        "    print(\"Angka Terbesar adalah \", angka2)\n",
        "else:\n",
        "    print(\"Angka Terbesar adalah \", angka3)\n"
      ],
      "metadata": {
        "colab": {
          "base_uri": "https://localhost:8080/"
        },
        "id": "72nYb2ejeT0j",
        "outputId": "135936fb-e13a-4864-e2b5-7148b494c79c"
      },
      "execution_count": null,
      "outputs": [
        {
          "output_type": "stream",
          "name": "stdout",
          "text": [
            "Masukkan Angka Pertama 33.5\n",
            "Masukkan Angka Kedua 90.7\n",
            "Masukkan Angka Ketiga 33.60\n",
            "Angka Terbesar adalah  90.7\n"
          ]
        }
      ]
    },
    {
      "cell_type": "code",
      "source": [
        "# Weekly Exercise 3 Membuat kode program untuk menghitung jumlah yang harus dibayarkan konsumen\n",
        "jenis_konsumen = input(\"Jenis Konsumen(member/non-member) :\")\n",
        "total_belanja = int(input(\"Total Belanja :\"))\n",
        "\n",
        "diskon = 0\n",
        "if total_belanja > 200000 :\n",
        "   diskon = 0.04\n",
        "elif total_belanja > 100000 :\n",
        "   diskon = 0.03\n",
        "\n",
        "diskon_member = 0\n",
        "if jenis_konsumen.lower() == \"member\":\n",
        "        diskon_member =0.02\n",
        "\n",
        "total_diskon = diskon + diskon_member\n",
        "\n",
        "jumlah_dibayar = total_belanja * (1 - total_diskon)\n",
        "\n",
        "print(\"Total Belanja :\", total_belanja)\n",
        "print(\"Total Diskon\", total_diskon * 100, \"%\")\n",
        "print(\"Jumlah yang harus dibayar\", jumlah_dibayar)\n"
      ],
      "metadata": {
        "colab": {
          "base_uri": "https://localhost:8080/"
        },
        "id": "z9tsQpqdkd5r",
        "outputId": "b1febc87-0ca2-4e36-e70d-757c346c177b"
      },
      "execution_count": null,
      "outputs": [
        {
          "output_type": "stream",
          "name": "stdout",
          "text": [
            "Jenis Konsumen(member/non-member) :non-member\n",
            "Total Belanja :240000\n",
            "Total Belanja : 240000\n",
            "Total Diskon 4.0 %\n",
            "Jumlah yang harus dibayar 230400.0\n"
          ]
        }
      ]
    },
    {
      "cell_type": "code",
      "source": [
        "# Weekly Exercise 4 membuat kode program untuk membuat user baru pada sebuah sistem\n",
        "while True :\n",
        "   username = input (\"Masukkan Username :\")\n",
        "   if username :\n",
        "    print(\"Username Diterima\")\n",
        "    break\n",
        "   else :\n",
        "    print(\"Username Ditolak\")\n",
        "    continue\n",
        "while True :\n",
        "  Email = input(\"Masukkan Email :\")\n",
        "  if \"@\" in Email :\n",
        "    print(\"Email Diterima \")\n",
        "    break\n",
        "  else :\n",
        "    print(\"Email Ditolak\")\n",
        "\n",
        "while True :\n",
        "   Password = input(\"Masukkan Password :\")\n",
        "   if len(Password) > 8 :\n",
        "      print(\"Password Diterima\")\n",
        "      break\n",
        "   else :\n",
        "      print(\"Password Ditolak\")\n"
      ],
      "metadata": {
        "colab": {
          "base_uri": "https://localhost:8080/"
        },
        "id": "PpHFf7wJRHYg",
        "outputId": "5e844ad9-2706-47f0-fd19-e9eee56e2948"
      },
      "execution_count": null,
      "outputs": [
        {
          "output_type": "stream",
          "name": "stdout",
          "text": [
            "Masukkan Username :\n",
            "Username Ditolak\n",
            "Masukkan Username :rama\n",
            "Username Diterima\n",
            "Masukkan Email :ramndzon.gmail.com\n",
            "Email Ditolak\n",
            "Masukkan Email :ramandzon@gmail.com\n",
            "Email Diterima \n",
            "Masukkan Password :1234\n",
            "Password Ditolak\n",
            "Masukkan Password :12345678910\n",
            "Password Diterima\n"
          ]
        }
      ]
    }
  ]
}