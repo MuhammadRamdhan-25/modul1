{
  "nbformat": 4,
  "nbformat_minor": 0,
  "metadata": {
    "colab": {
      "provenance": [],
      "authorship_tag": "ABX9TyO8g9eNsLtNbuYyeVsJaBrb",
      "include_colab_link": true
    },
    "kernelspec": {
      "name": "python3",
      "display_name": "Python 3"
    },
    "language_info": {
      "name": "python"
    }
  },
  "cells": [
    {
      "cell_type": "markdown",
      "metadata": {
        "id": "view-in-github",
        "colab_type": "text"
      },
      "source": [
        "<a href=\"https://colab.research.google.com/github/MuhammadRamdhan-25/modul1/blob/main/Praktikum_09.ipynb\" target=\"_parent\"><img src=\"https://colab.research.google.com/assets/colab-badge.svg\" alt=\"Open In Colab\"/></a>"
      ]
    },
    {
      "cell_type": "code",
      "execution_count": null,
      "metadata": {
        "colab": {
          "base_uri": "https://localhost:8080/"
        },
        "id": "60sPU2y6kj5y",
        "outputId": "b17353aa-71ea-4e4e-d4f4-e472f9636b0d"
      },
      "outputs": [
        {
          "output_type": "stream",
          "name": "stdout",
          "text": [
            "1.List:Merupakan sebuah tipe data yang berfungsi untuk menyimpan sebuah elemen di dalamnya,Contoh:\n",
            "['Apel', 'Mangga', 'Jeruk']\n",
            "['Apel', 'Mangga', 'Jeruk', 'Semangka']\n",
            "['Apel', 'Jeruk']\n",
            "Apel\n",
            "Mangga\n",
            "Jeruk\n",
            "2.Tupple : Merupakan tipe data yang terurut yang tidak dapat diubah sesudah membuatnya,Contoh:\n",
            "('Apel', 'Mangga', 'Jeruk')\n",
            "Apel\n",
            "('Apel', 'Jeruk')\n",
            "Apel\n",
            "Mangga\n",
            "Jeruk\n",
            "3.Set : Merupakan tipe data yang tidak terurut yang tidak dapat diubah sesudah membuatnya dan menyimpan elemen unik,Contoh:\n",
            "{'Jeruk', 'Mangga', 'Apel'}\n",
            "3\n",
            "Jeruk\n",
            "Mangga\n",
            "Apel\n",
            "4.Dictionary : Merupakan tipe data yang menyimpan data dalam bentuk pasangan kunci-nilai,Contoh:\n",
            "{'Nama': 'Agus', 'Kelas': '12', 'Hobi': 'Mancing'}\n",
            "Mancing\n",
            "{'Nama': 'Agus', 'Kelas': '12', 'Hobi': 'Mancing'}\n",
            "{'Nama': 'Agus', 'Kelas': '12', 'Hobi': 'Mancing', 'Alamat': 'Temanggung'}\n"
          ]
        }
      ],
      "source": [
        "# Weekly Exercise 1 Menyebutkan dan menjelaskan perbedaan list, tuple, set, dan dictionary dalam python\n",
        "print('1.List:Merupakan sebuah tipe data yang berfungsi untuk menyimpan sebuah elemen di dalamnya,Contoh:')\n",
        "#Membuat List\n",
        "Buah = [\"Apel\", \"Mangga\", \"Jeruk\"]\n",
        "print(Buah)\n",
        "#Menambahkan elemen\n",
        "buah = [\"Apel\", \"Mangga\", \"Jeruk\"]\n",
        "buah.append(\"Semangka\")\n",
        "print(buah)\n",
        "#Menghapus elemen\n",
        "buah = [\"Apel\", \"Mangga\", \"Jeruk\"]\n",
        "del buah[1]\n",
        "print(buah)\n",
        "#Perulangan list\n",
        "buah = [\"Apel\", \"Mangga\", \"Jeruk\"]\n",
        "for i in buah:\n",
        "    print(i)\n",
        "print('2.Tupple : Merupakan tipe data yang terurut yang tidak dapat diubah sesudah membuatnya,Contoh:')\n",
        "#Membuat Tuple\n",
        "Buah = (\"Apel\", \"Mangga\", \"Jeruk\")\n",
        "print(Buah)\n",
        "#Mengakses elemen tertentu\n",
        "Buah = (\"Apel\", \"Mangga\", \"Jeruk\")\n",
        "print(Buah[0])\n",
        "#Menghapus elemen\n",
        "Buah = (\"Apel\", \"Mangga\", \"Jeruk\")\n",
        "y = list(Buah)\n",
        "y.remove(\"Mangga\")\n",
        "Buah = tuple(y)\n",
        "print(Buah)\n",
        "#Perulangan Tuple\n",
        "Buah = (\"Apel\", \"Mangga\", \"Jeruk\")\n",
        "for i in Buah:\n",
        "    print(i)\n",
        "print('3.Set : Merupakan tipe data yang tidak terurut yang tidak dapat diubah sesudah membuatnya dan menyimpan elemen unik,Contoh:')\n",
        "#Membuat Set\n",
        "Buah = {\"Apel\", \"Mangga\", \"Jeruk\",\"Apel\"}\n",
        "print(Buah)\n",
        "#Menghitung jumlah set\n",
        "Buah = {\"Apel\", \"Mangga\", \"Jeruk\"}\n",
        "print(len(Buah))\n",
        "#Perulangan Set\n",
        "Buah = {\"Apel\", \"Mangga\", \"Jeruk\"}\n",
        "for i in Buah:\n",
        "    print(i)\n",
        "print('4.Dictionary : Merupakan tipe data yang menyimpan data dalam bentuk pasangan kunci-nilai,Contoh:')\n",
        "#Membuat Dictionary\n",
        "ID ={\n",
        "   \"Nama\":\"Agus\",\n",
        "   \"Kelas\": \"12\",\n",
        "   \"Hobi\": \"Mancing\",\n",
        "}\n",
        "print(ID)\n",
        "#Mengakses elemen tertentu\n",
        "ID ={\n",
        "   \"Nama\":\"Agus\",\n",
        "   \"Kelas\": \"12\",\n",
        "   \"Hobi\": \"Mancing\",\n",
        "}\n",
        "print(ID[\"Hobi\"])\n",
        "#Menambah elemen\n",
        "ID ={\n",
        "   \"Nama\":\"Agus\",\n",
        "   \"Kelas\": \"12\",\n",
        "   \"Hobi\": \"Mancing\",\n",
        "}\n",
        "print(ID)#sebelum menambahkan\n",
        "ID[\"Alamat\"] = \"Temanggung\"\n",
        "print(ID)#seteleh menambahkan"
      ]
    },
    {
      "cell_type": "code",
      "source": [
        "#Weekly Exercise 2 Membuat sebuah biodata diri\n",
        "ID = {\n",
        "    \"Nama Mahasiswa\":(\"Muhammad Ramdhan\"),\n",
        "    \"Kelas\": (\"Rombel 1 24\"),\n",
        "    \"TTL\": (\"Temanggung, 25 Oktober 2005\"),\n",
        "    \"NO HP\":(\"087834995406\"),\n",
        "    \"Alamat\":(\"Bangsari, Soropadan, Pringsurat, Temanggung\"),\n",
        "    \"Hobi\": [\"Badminton\",\"Lari\",\"Membaca\"]\n",
        "}\n",
        "\n",
        "print(\"ID:\")\n",
        "for key, value in ID.items():\n",
        "    if key == \"Hobi\":  # Khusus untuk hobi, kita gunakan perulangan untuk setiap hobi\n",
        "        print(f\"{key}:\")\n",
        "        for i, hobi in enumerate(value, start=1):\n",
        "            print(f\"  Hobi {i}: {hobi}\")\n",
        "    else:\n",
        "        print(f\"{key}: {value}\")\n"
      ],
      "metadata": {
        "id": "nlV9YzpSqZSw",
        "colab": {
          "base_uri": "https://localhost:8080/"
        },
        "outputId": "10092ce7-41d0-4dfd-a5d6-c0b74ccf937b"
      },
      "execution_count": null,
      "outputs": [
        {
          "output_type": "stream",
          "name": "stdout",
          "text": [
            "ID:\n",
            "Nama Mahasiswa: Muhammad Ramdhan\n",
            "Kelas: Rombel 1 24\n",
            "TTL: Temanggung, 25 Oktober 2005\n",
            "NO HP: 087834995406\n",
            "Alamat: Bangsari, Soropadan, Pringsurat, Temanggung\n",
            "Hobi:\n",
            "  Hobi 1: Badminton\n",
            "  Hobi 2: Lari\n",
            "  Hobi 3: Membaca\n"
          ]
        }
      ]
    }
  ]
}