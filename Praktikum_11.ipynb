{
  "nbformat": 4,
  "nbformat_minor": 0,
  "metadata": {
    "colab": {
      "provenance": [],
      "authorship_tag": "ABX9TyMLrDhg7RlZGRB1hkXVfhXj",
      "include_colab_link": true
    },
    "kernelspec": {
      "name": "python3",
      "display_name": "Python 3"
    },
    "language_info": {
      "name": "python"
    }
  },
  "cells": [
    {
      "cell_type": "markdown",
      "metadata": {
        "id": "view-in-github",
        "colab_type": "text"
      },
      "source": [
        "<a href=\"https://colab.research.google.com/github/MuhammadRamdhan-25/modul1/blob/main/Praktikum_11.ipynb\" target=\"_parent\"><img src=\"https://colab.research.google.com/assets/colab-badge.svg\" alt=\"Open In Colab\"/></a>"
      ]
    },
    {
      "cell_type": "code",
      "execution_count": 4,
      "metadata": {
        "colab": {
          "base_uri": "https://localhost:8080/"
        },
        "id": "G1uUa0NXpyMt",
        "outputId": "17befa12-a526-46a1-f3f8-594e0feb20d6"
      },
      "outputs": [
        {
          "output_type": "stream",
          "name": "stdout",
          "text": [
            "Masukkan Jari-jari Lingkaran: 30\n",
            "Luas Lingkaran adalah 2826.0\n",
            "Masukkan Sisi Persegi: 12\n",
            "Luas Persegi adalah 144.0\n"
          ]
        }
      ],
      "source": [
        "#Weekly Exercise 1 Membuat sebuah modul dengan sebuah ketentuan\n",
        "import matematika\n",
        "\n",
        "r = float(input(\"Masukkan Jari-jari Lingkaran: \"))\n",
        "luas = matematika.luas_lingkaran(r)\n",
        "print(f\"Luas Lingkaran adalah {luas}\")\n",
        "s = float(input(\"Masukkan Sisi Persegi: \"))\n",
        "luas = matematika.luas_persegi(s)\n",
        "print(f\"Luas Persegi adalah {luas}\")\n"
      ]
    },
    {
      "cell_type": "code",
      "source": [
        "#Weekly Exercise 2 Memanfaatkan built-in module math pada python\n",
        "import operator\n",
        "\n",
        "n1 = float(input(\"Masukkan angka pertama: \"))\n",
        "n2 = float(input(\"Masukkan angka kedua: \"))\n",
        "\n",
        "print(\"Hasil penjumlahan: \", operator.add(n1, n2))\n",
        "print(\"Hasil pengurangan: \", operator.sub(n1, n2))\n",
        "print(\"Hasil perkalian: \", operator.mul(n1, n2))\n",
        "if n2 != 0:\n",
        "    print(\"Hasil pembagian: \", operator.truediv(n1, n2))\n",
        "else:\n",
        "    print(\"Tidak dapat melakukan operasi sisa bagi karena pembagi adalah nol.\")\n",
        "print(f\"Hasil pangkat\",operator.pow(n1,n2))"
      ],
      "metadata": {
        "id": "TmzD6P1vCLhe",
        "colab": {
          "base_uri": "https://localhost:8080/"
        },
        "outputId": "a89bfbf4-8a56-4081-f134-5f2310873cb7"
      },
      "execution_count": 6,
      "outputs": [
        {
          "output_type": "stream",
          "name": "stdout",
          "text": [
            "Masukkan angka pertama: 23\n",
            "Masukkan angka kedua: 4\n",
            "Hasil penjumlahan:  27.0\n",
            "Hasil pengurangan:  19.0\n",
            "Hasil perkalian:  92.0\n",
            "Hasil pembagian:  5.75\n",
            "Hasil pangkat 279841.0\n"
          ]
        }
      ]
    }
  ]
}